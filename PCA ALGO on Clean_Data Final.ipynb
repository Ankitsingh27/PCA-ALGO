{
 "cells": [
  {
   "cell_type": "markdown",
   "metadata": {},
   "source": [
    "# Import Library & Data"
   ]
  },
  {
   "cell_type": "code",
   "execution_count": 11,
   "metadata": {},
   "outputs": [],
   "source": [
    "# importing required libraries \n",
    "import numpy as np \n",
    "import matplotlib.pyplot as plt \n",
    "import pandas as pd "
   ]
  },
  {
   "cell_type": "code",
   "execution_count": 12,
   "metadata": {},
   "outputs": [],
   "source": [
    "import os \n",
    "os.chdir(r\"C:\\Users\\ANKIT\") "
   ]
  },
  {
   "cell_type": "code",
   "execution_count": 13,
   "metadata": {},
   "outputs": [],
   "source": [
    "# importing or loading the dataset \n",
    "Data_for_PCA = pd.read_csv('Clean_Data.csv')"
   ]
  },
  {
   "cell_type": "code",
   "execution_count": 14,
   "metadata": {},
   "outputs": [
    {
     "data": {
      "text/html": [
       "<div>\n",
       "<style scoped>\n",
       "    .dataframe tbody tr th:only-of-type {\n",
       "        vertical-align: middle;\n",
       "    }\n",
       "\n",
       "    .dataframe tbody tr th {\n",
       "        vertical-align: top;\n",
       "    }\n",
       "\n",
       "    .dataframe thead th {\n",
       "        text-align: right;\n",
       "    }\n",
       "</style>\n",
       "<table border=\"1\" class=\"dataframe\">\n",
       "  <thead>\n",
       "    <tr style=\"text-align: right;\">\n",
       "      <th></th>\n",
       "      <th>Dist_Taxi</th>\n",
       "      <th>Dist_Market</th>\n",
       "      <th>Dist_Hospital</th>\n",
       "      <th>Carpet</th>\n",
       "      <th>Builtup</th>\n",
       "      <th>Parking</th>\n",
       "      <th>City_Category</th>\n",
       "      <th>Rainfall</th>\n",
       "      <th>House_Price</th>\n",
       "    </tr>\n",
       "  </thead>\n",
       "  <tbody>\n",
       "    <tr>\n",
       "      <th>0</th>\n",
       "      <td>9796</td>\n",
       "      <td>5250</td>\n",
       "      <td>10703</td>\n",
       "      <td>1659</td>\n",
       "      <td>1961</td>\n",
       "      <td>Open</td>\n",
       "      <td>CAT B</td>\n",
       "      <td>530</td>\n",
       "      <td>6649000</td>\n",
       "    </tr>\n",
       "    <tr>\n",
       "      <th>1</th>\n",
       "      <td>8294</td>\n",
       "      <td>8186</td>\n",
       "      <td>12694</td>\n",
       "      <td>1461</td>\n",
       "      <td>1752</td>\n",
       "      <td>Not Provided</td>\n",
       "      <td>CAT B</td>\n",
       "      <td>210</td>\n",
       "      <td>3982000</td>\n",
       "    </tr>\n",
       "    <tr>\n",
       "      <th>2</th>\n",
       "      <td>11001</td>\n",
       "      <td>14399</td>\n",
       "      <td>16991</td>\n",
       "      <td>1340</td>\n",
       "      <td>1609</td>\n",
       "      <td>Not Provided</td>\n",
       "      <td>CAT A</td>\n",
       "      <td>720</td>\n",
       "      <td>5401000</td>\n",
       "    </tr>\n",
       "    <tr>\n",
       "      <th>3</th>\n",
       "      <td>8301</td>\n",
       "      <td>11188</td>\n",
       "      <td>12289</td>\n",
       "      <td>1451</td>\n",
       "      <td>1748</td>\n",
       "      <td>Covered</td>\n",
       "      <td>CAT B</td>\n",
       "      <td>620</td>\n",
       "      <td>5373000</td>\n",
       "    </tr>\n",
       "    <tr>\n",
       "      <th>4</th>\n",
       "      <td>10510</td>\n",
       "      <td>12629</td>\n",
       "      <td>13921</td>\n",
       "      <td>1770</td>\n",
       "      <td>2111</td>\n",
       "      <td>Not Provided</td>\n",
       "      <td>CAT B</td>\n",
       "      <td>450</td>\n",
       "      <td>4662000</td>\n",
       "    </tr>\n",
       "  </tbody>\n",
       "</table>\n",
       "</div>"
      ],
      "text/plain": [
       "   Dist_Taxi  Dist_Market  Dist_Hospital  Carpet  Builtup       Parking  \\\n",
       "0       9796         5250          10703    1659     1961          Open   \n",
       "1       8294         8186          12694    1461     1752  Not Provided   \n",
       "2      11001        14399          16991    1340     1609  Not Provided   \n",
       "3       8301        11188          12289    1451     1748       Covered   \n",
       "4      10510        12629          13921    1770     2111  Not Provided   \n",
       "\n",
       "  City_Category  Rainfall  House_Price  \n",
       "0         CAT B       530      6649000  \n",
       "1         CAT B       210      3982000  \n",
       "2         CAT A       720      5401000  \n",
       "3         CAT B       620      5373000  \n",
       "4         CAT B       450      4662000  "
      ]
     },
     "execution_count": 14,
     "metadata": {},
     "output_type": "execute_result"
    }
   ],
   "source": [
    "Data_for_PCA.head()"
   ]
  },
  {
   "cell_type": "markdown",
   "metadata": {},
   "source": [
    "## Taking specific column for Analysis"
   ]
  },
  {
   "cell_type": "code",
   "execution_count": 15,
   "metadata": {},
   "outputs": [],
   "source": [
    "numeric_predictors=['Dist_Taxi','Dist_Market','Dist_Hospital','Carpet','Builtup','Rainfall','City_Category']\n",
    "dataset = Data_for_PCA[numeric_predictors]"
   ]
  },
  {
   "cell_type": "code",
   "execution_count": 16,
   "metadata": {},
   "outputs": [
    {
     "data": {
      "text/html": [
       "<div>\n",
       "<style scoped>\n",
       "    .dataframe tbody tr th:only-of-type {\n",
       "        vertical-align: middle;\n",
       "    }\n",
       "\n",
       "    .dataframe tbody tr th {\n",
       "        vertical-align: top;\n",
       "    }\n",
       "\n",
       "    .dataframe thead th {\n",
       "        text-align: right;\n",
       "    }\n",
       "</style>\n",
       "<table border=\"1\" class=\"dataframe\">\n",
       "  <thead>\n",
       "    <tr style=\"text-align: right;\">\n",
       "      <th></th>\n",
       "      <th>Dist_Taxi</th>\n",
       "      <th>Dist_Market</th>\n",
       "      <th>Dist_Hospital</th>\n",
       "      <th>Carpet</th>\n",
       "      <th>Builtup</th>\n",
       "      <th>Rainfall</th>\n",
       "      <th>City_Category</th>\n",
       "    </tr>\n",
       "  </thead>\n",
       "  <tbody>\n",
       "    <tr>\n",
       "      <th>0</th>\n",
       "      <td>9796</td>\n",
       "      <td>5250</td>\n",
       "      <td>10703</td>\n",
       "      <td>1659</td>\n",
       "      <td>1961</td>\n",
       "      <td>530</td>\n",
       "      <td>CAT B</td>\n",
       "    </tr>\n",
       "    <tr>\n",
       "      <th>1</th>\n",
       "      <td>8294</td>\n",
       "      <td>8186</td>\n",
       "      <td>12694</td>\n",
       "      <td>1461</td>\n",
       "      <td>1752</td>\n",
       "      <td>210</td>\n",
       "      <td>CAT B</td>\n",
       "    </tr>\n",
       "    <tr>\n",
       "      <th>2</th>\n",
       "      <td>11001</td>\n",
       "      <td>14399</td>\n",
       "      <td>16991</td>\n",
       "      <td>1340</td>\n",
       "      <td>1609</td>\n",
       "      <td>720</td>\n",
       "      <td>CAT A</td>\n",
       "    </tr>\n",
       "    <tr>\n",
       "      <th>3</th>\n",
       "      <td>8301</td>\n",
       "      <td>11188</td>\n",
       "      <td>12289</td>\n",
       "      <td>1451</td>\n",
       "      <td>1748</td>\n",
       "      <td>620</td>\n",
       "      <td>CAT B</td>\n",
       "    </tr>\n",
       "    <tr>\n",
       "      <th>4</th>\n",
       "      <td>10510</td>\n",
       "      <td>12629</td>\n",
       "      <td>13921</td>\n",
       "      <td>1770</td>\n",
       "      <td>2111</td>\n",
       "      <td>450</td>\n",
       "      <td>CAT B</td>\n",
       "    </tr>\n",
       "  </tbody>\n",
       "</table>\n",
       "</div>"
      ],
      "text/plain": [
       "   Dist_Taxi  Dist_Market  Dist_Hospital  Carpet  Builtup  Rainfall  \\\n",
       "0       9796         5250          10703    1659     1961       530   \n",
       "1       8294         8186          12694    1461     1752       210   \n",
       "2      11001        14399          16991    1340     1609       720   \n",
       "3       8301        11188          12289    1451     1748       620   \n",
       "4      10510        12629          13921    1770     2111       450   \n",
       "\n",
       "  City_Category  \n",
       "0         CAT B  \n",
       "1         CAT B  \n",
       "2         CAT A  \n",
       "3         CAT B  \n",
       "4         CAT B  "
      ]
     },
     "execution_count": 16,
     "metadata": {},
     "output_type": "execute_result"
    }
   ],
   "source": [
    "dataset.head()"
   ]
  },
  {
   "cell_type": "markdown",
   "metadata": {},
   "source": [
    "## Data Partition"
   ]
  },
  {
   "cell_type": "code",
   "execution_count": 25,
   "metadata": {},
   "outputs": [],
   "source": [
    "# define our input variable (X) & output variable\n",
    "X = dataset.drop('City_Category', axis = 1)\n",
    "Y = dataset[['City_Category']]\n"
   ]
  },
  {
   "cell_type": "code",
   "execution_count": 27,
   "metadata": {},
   "outputs": [
    {
     "data": {
      "text/html": [
       "<div>\n",
       "<style scoped>\n",
       "    .dataframe tbody tr th:only-of-type {\n",
       "        vertical-align: middle;\n",
       "    }\n",
       "\n",
       "    .dataframe tbody tr th {\n",
       "        vertical-align: top;\n",
       "    }\n",
       "\n",
       "    .dataframe thead th {\n",
       "        text-align: right;\n",
       "    }\n",
       "</style>\n",
       "<table border=\"1\" class=\"dataframe\">\n",
       "  <thead>\n",
       "    <tr style=\"text-align: right;\">\n",
       "      <th></th>\n",
       "      <th>City_Category</th>\n",
       "    </tr>\n",
       "  </thead>\n",
       "  <tbody>\n",
       "    <tr>\n",
       "      <th>0</th>\n",
       "      <td>CAT B</td>\n",
       "    </tr>\n",
       "    <tr>\n",
       "      <th>1</th>\n",
       "      <td>CAT B</td>\n",
       "    </tr>\n",
       "    <tr>\n",
       "      <th>2</th>\n",
       "      <td>CAT A</td>\n",
       "    </tr>\n",
       "    <tr>\n",
       "      <th>3</th>\n",
       "      <td>CAT B</td>\n",
       "    </tr>\n",
       "    <tr>\n",
       "      <th>4</th>\n",
       "      <td>CAT B</td>\n",
       "    </tr>\n",
       "    <tr>\n",
       "      <th>...</th>\n",
       "      <td>...</td>\n",
       "    </tr>\n",
       "    <tr>\n",
       "      <th>892</th>\n",
       "      <td>CAT C</td>\n",
       "    </tr>\n",
       "    <tr>\n",
       "      <th>893</th>\n",
       "      <td>CAT A</td>\n",
       "    </tr>\n",
       "    <tr>\n",
       "      <th>894</th>\n",
       "      <td>CAT A</td>\n",
       "    </tr>\n",
       "    <tr>\n",
       "      <th>895</th>\n",
       "      <td>CAT B</td>\n",
       "    </tr>\n",
       "    <tr>\n",
       "      <th>896</th>\n",
       "      <td>CAT C</td>\n",
       "    </tr>\n",
       "  </tbody>\n",
       "</table>\n",
       "<p>897 rows × 1 columns</p>\n",
       "</div>"
      ],
      "text/plain": [
       "    City_Category\n",
       "0           CAT B\n",
       "1           CAT B\n",
       "2           CAT A\n",
       "3           CAT B\n",
       "4           CAT B\n",
       "..            ...\n",
       "892         CAT C\n",
       "893         CAT A\n",
       "894         CAT A\n",
       "895         CAT B\n",
       "896         CAT C\n",
       "\n",
       "[897 rows x 1 columns]"
      ]
     },
     "execution_count": 27,
     "metadata": {},
     "output_type": "execute_result"
    }
   ],
   "source": [
    "Y"
   ]
  },
  {
   "cell_type": "code",
   "execution_count": 18,
   "metadata": {},
   "outputs": [],
   "source": [
    "# Splitting the X and Y into the \n",
    "# Training set and Testing set \n",
    "\n",
    "from sklearn.model_selection import train_test_split \n",
    "  \n",
    "X_train, X_test, y_train, y_test = train_test_split(X, Y, test_size = 0.2, random_state = 0) "
   ]
  },
  {
   "cell_type": "markdown",
   "metadata": {},
   "source": [
    "### PCA is effected by scale so you need to scale the features in the data before applying PCA. \n",
    "\n",
    "* You can transform the data onto unit scale (mean = 0 and variance = 1) "
   ]
  },
  {
   "cell_type": "code",
   "execution_count": 9,
   "metadata": {},
   "outputs": [],
   "source": [
    "# performing preprocessing part \n",
    "from sklearn.preprocessing import StandardScaler \n",
    "\n",
    "sc = StandardScaler() # mean 0 & std=1\n",
    "  \n",
    "X_train_1 = sc.fit_transform(X_train)  # Fit to data, then transform it.\n",
    "X_test_1 = sc.transform(X_test) # Perform standardization by centering and scaling"
   ]
  },
  {
   "cell_type": "markdown",
   "metadata": {},
   "source": [
    "### Mean"
   ]
  },
  {
   "cell_type": "code",
   "execution_count": 28,
   "metadata": {},
   "outputs": [
    {
     "data": {
      "text/plain": [
       "array([ 3.02253186e-16, -1.41216653e-16, -2.13063721e-16, -2.65090909e-16,\n",
       "        3.24550552e-16, -1.48649108e-16])"
      ]
     },
     "execution_count": 28,
     "metadata": {},
     "output_type": "execute_result"
    }
   ],
   "source": [
    "X_train_1.mean(axis=0)"
   ]
  },
  {
   "cell_type": "markdown",
   "metadata": {},
   "source": [
    "### Variance"
   ]
  },
  {
   "cell_type": "code",
   "execution_count": 29,
   "metadata": {},
   "outputs": [
    {
     "data": {
      "text/plain": [
       "array([1., 1., 1., 1., 1., 1.])"
      ]
     },
     "execution_count": 29,
     "metadata": {},
     "output_type": "execute_result"
    }
   ],
   "source": [
    "X_train_1.std(axis=0)"
   ]
  },
  {
   "cell_type": "code",
   "execution_count": 30,
   "metadata": {},
   "outputs": [
    {
     "data": {
      "text/html": [
       "<div>\n",
       "<style scoped>\n",
       "    .dataframe tbody tr th:only-of-type {\n",
       "        vertical-align: middle;\n",
       "    }\n",
       "\n",
       "    .dataframe tbody tr th {\n",
       "        vertical-align: top;\n",
       "    }\n",
       "\n",
       "    .dataframe thead th {\n",
       "        text-align: right;\n",
       "    }\n",
       "</style>\n",
       "<table border=\"1\" class=\"dataframe\">\n",
       "  <thead>\n",
       "    <tr style=\"text-align: right;\">\n",
       "      <th></th>\n",
       "      <th>Dist_Taxi</th>\n",
       "      <th>Dist_Market</th>\n",
       "      <th>Dist_Hospital</th>\n",
       "      <th>Carpet</th>\n",
       "      <th>Builtup</th>\n",
       "      <th>Rainfall</th>\n",
       "    </tr>\n",
       "  </thead>\n",
       "  <tbody>\n",
       "    <tr>\n",
       "      <th>704</th>\n",
       "      <td>10947</td>\n",
       "      <td>14084</td>\n",
       "      <td>16646</td>\n",
       "      <td>1791</td>\n",
       "      <td>2167</td>\n",
       "      <td>700</td>\n",
       "    </tr>\n",
       "    <tr>\n",
       "      <th>590</th>\n",
       "      <td>10440</td>\n",
       "      <td>11464</td>\n",
       "      <td>15648</td>\n",
       "      <td>1240</td>\n",
       "      <td>1493</td>\n",
       "      <td>590</td>\n",
       "    </tr>\n",
       "    <tr>\n",
       "      <th>532</th>\n",
       "      <td>14005</td>\n",
       "      <td>9744</td>\n",
       "      <td>17121</td>\n",
       "      <td>1275</td>\n",
       "      <td>1517</td>\n",
       "      <td>790</td>\n",
       "    </tr>\n",
       "    <tr>\n",
       "      <th>843</th>\n",
       "      <td>5925</td>\n",
       "      <td>9388</td>\n",
       "      <td>9735</td>\n",
       "      <td>1305</td>\n",
       "      <td>1557</td>\n",
       "      <td>580</td>\n",
       "    </tr>\n",
       "    <tr>\n",
       "      <th>402</th>\n",
       "      <td>11309</td>\n",
       "      <td>8252</td>\n",
       "      <td>13199</td>\n",
       "      <td>1480</td>\n",
       "      <td>1773</td>\n",
       "      <td>360</td>\n",
       "    </tr>\n",
       "  </tbody>\n",
       "</table>\n",
       "</div>"
      ],
      "text/plain": [
       "     Dist_Taxi  Dist_Market  Dist_Hospital  Carpet  Builtup  Rainfall\n",
       "704      10947        14084          16646    1791     2167       700\n",
       "590      10440        11464          15648    1240     1493       590\n",
       "532      14005         9744          17121    1275     1517       790\n",
       "843       5925         9388           9735    1305     1557       580\n",
       "402      11309         8252          13199    1480     1773       360"
      ]
     },
     "execution_count": 30,
     "metadata": {},
     "output_type": "execute_result"
    }
   ],
   "source": [
    "X_train.head()"
   ]
  },
  {
   "cell_type": "code",
   "execution_count": 31,
   "metadata": {},
   "outputs": [
    {
     "data": {
      "text/plain": [
       "array([[ 1.06019818,  1.21340908,  1.40493673,  1.19314728,  1.25337512,\n",
       "        -0.31640871],\n",
       "       [ 0.86010401,  0.18358726,  1.01332649, -0.97580066, -0.95868304,\n",
       "        -0.73406822],\n",
       "       [ 2.2670778 , -0.49247898,  1.59132436, -0.83802719, -0.87991539,\n",
       "         0.0253127 ],\n",
       "       ...,\n",
       "       [ 1.1817544 , -0.71652419,  1.39355727,  2.1890526 ,  2.0443336 ,\n",
       "        -1.53141817],\n",
       "       [ 1.21332744,  0.65054463,  0.95642921, -1.01122812, -1.02760473,\n",
       "         0.10125079],\n",
       "       [-1.03427867, -1.04787526, -0.29688049,  1.55923106,  1.56516373,\n",
       "        -1.79720149]])"
      ]
     },
     "execution_count": 31,
     "metadata": {},
     "output_type": "execute_result"
    }
   ],
   "source": [
    "X_train_1"
   ]
  },
  {
   "cell_type": "markdown",
   "metadata": {},
   "source": [
    "# No. of variable in original dataset"
   ]
  },
  {
   "cell_type": "code",
   "execution_count": 32,
   "metadata": {},
   "outputs": [
    {
     "data": {
      "text/plain": [
       "Index(['Dist_Taxi', 'Dist_Market', 'Dist_Hospital', 'Carpet', 'Builtup',\n",
       "       'Rainfall', 'City_Category'],\n",
       "      dtype='object')"
      ]
     },
     "execution_count": 32,
     "metadata": {},
     "output_type": "execute_result"
    }
   ],
   "source": [
    "dataset.columns"
   ]
  },
  {
   "cell_type": "code",
   "execution_count": 33,
   "metadata": {},
   "outputs": [],
   "source": [
    "# Applying PCA function on training \n",
    "# and testing set of X component \n",
    "from sklearn.decomposition import PCA \n",
    "  \n",
    "pca = PCA(n_components = 3) # we are specifying we want 3 PCA\n",
    "  \n",
    "principalComponents= pca.fit(X_train_1) # Fit the model with X and apply the dimensionality reduction on X."
   ]
  },
  {
   "cell_type": "markdown",
   "metadata": {},
   "source": [
    "# Explained Variance\n",
    "* The explained variance tells you how much information (variance) can be attributed to each of the principal components. \n",
    "\n",
    "* This is important as while you can convert high dimensional space to 2 dimensional space, you lose some of the variance (information) when you do this. By using the attribute explained_variance_ratio_, "
   ]
  },
  {
   "cell_type": "code",
   "execution_count": 34,
   "metadata": {},
   "outputs": [
    {
     "data": {
      "text/plain": [
       "array([2.28989267, 2.00032207, 0.99093957])"
      ]
     },
     "execution_count": 34,
     "metadata": {},
     "output_type": "execute_result"
    }
   ],
   "source": [
    "principalComponents.explained_variance_   # values"
   ]
  },
  {
   "cell_type": "code",
   "execution_count": 35,
   "metadata": {},
   "outputs": [
    {
     "data": {
      "text/plain": [
       "0.38166666666666665"
      ]
     },
     "execution_count": 35,
     "metadata": {},
     "output_type": "execute_result"
    }
   ],
   "source": [
    "2.29/6"
   ]
  },
  {
   "cell_type": "code",
   "execution_count": 36,
   "metadata": {},
   "outputs": [
    {
     "data": {
      "text/plain": [
       "array([0.38111649, 0.33292204, 0.16492625])"
      ]
     },
     "execution_count": 36,
     "metadata": {},
     "output_type": "execute_result"
    }
   ],
   "source": [
    "principalComponents.explained_variance_ratio_  "
   ]
  },
  {
   "cell_type": "markdown",
   "metadata": {},
   "source": [
    "* You can see that the first principal component contains 38.11% of the variance \n",
    "\n",
    "* The second principal component contains 33.29% of the variance & third  PC contain 16.50%.\n",
    "\n",
    "* Together, the three components contain 87.9% of the information."
   ]
  },
  {
   "cell_type": "code",
   "execution_count": 37,
   "metadata": {},
   "outputs": [
    {
     "data": {
      "text/plain": [
       "array([ 3.02253186e-16, -1.41216653e-16, -2.13063721e-16, -2.65090909e-16,\n",
       "        3.24550552e-16, -1.48649108e-16])"
      ]
     },
     "execution_count": 37,
     "metadata": {},
     "output_type": "execute_result"
    }
   ],
   "source": [
    "principalComponents.mean_"
   ]
  },
  {
   "cell_type": "code",
   "execution_count": 38,
   "metadata": {},
   "outputs": [
    {
     "data": {
      "text/plain": [
       "array([[ 0.93286814,  0.61711435,  0.73710978, -0.0020926 , -0.00146837,\n",
       "         0.02201517],\n",
       "       [ 0.61711435,  0.80012589,  0.66188755, -0.03895366, -0.03832694,\n",
       "         0.08084685],\n",
       "       [ 0.73710978,  0.66188755,  1.03094318, -0.01336985, -0.01266454,\n",
       "         0.05762372],\n",
       "       [-0.0020926 , -0.03895366, -0.01336985,  1.12201826,  0.87959294,\n",
       "        -0.05515912],\n",
       "       [-0.00146837, -0.03832694, -0.01266454,  0.87959294,  1.12198625,\n",
       "        -0.05426488],\n",
       "       [ 0.02201517,  0.08084685,  0.05762372, -0.05515912, -0.05426488,\n",
       "         1.00043817]])"
      ]
     },
     "execution_count": 38,
     "metadata": {},
     "output_type": "execute_result"
    }
   ],
   "source": [
    "principalComponents.get_covariance()"
   ]
  },
  {
   "cell_type": "code",
   "execution_count": 39,
   "metadata": {
    "scrolled": true
   },
   "outputs": [
    {
     "data": {
      "text/plain": [
       "array([[ 1.06019818,  1.21340908,  1.40493673,  1.19314728,  1.25337512,\n",
       "        -0.31640871],\n",
       "       [ 0.86010401,  0.18358726,  1.01332649, -0.97580066, -0.95868304,\n",
       "        -0.73406822],\n",
       "       [ 2.2670778 , -0.49247898,  1.59132436, -0.83802719, -0.87991539,\n",
       "         0.0253127 ],\n",
       "       ...,\n",
       "       [ 1.1817544 , -0.71652419,  1.39355727,  2.1890526 ,  2.0443336 ,\n",
       "        -1.53141817],\n",
       "       [ 1.21332744,  0.65054463,  0.95642921, -1.01122812, -1.02760473,\n",
       "         0.10125079],\n",
       "       [-1.03427867, -1.04787526, -0.29688049,  1.55923106,  1.56516373,\n",
       "        -1.79720149]])"
      ]
     },
     "execution_count": 39,
     "metadata": {},
     "output_type": "execute_result"
    }
   ],
   "source": [
    "X_train_1 ### scaled dataset"
   ]
  },
  {
   "cell_type": "markdown",
   "metadata": {},
   "source": [
    "# Beta Values or Eigen Vector \n",
    "Z1 = Beta1*x1+Beta2*X2 + beta3*X3 + ..... + beta13*X13\n"
   ]
  },
  {
   "cell_type": "markdown",
   "metadata": {},
   "source": [
    "### Z1= -0.56948391*X1 -0.51802262*X2-0.61180233*X3+0.1159208*X4+0.1153414*X5-0.07935541*X6"
   ]
  },
  {
   "cell_type": "markdown",
   "metadata": {},
   "source": [
    "Z1=(-0.56948391*1.06019818)-(0.51802262*1.21340908)-(0.61180233*1.40493673)+(0.1159208*1.19314728)+(0.1153414*1.25337512)-(0.07935541*0.31640871)\n",
    "Z1"
   ]
  },
  {
   "cell_type": "code",
   "execution_count": 40,
   "metadata": {},
   "outputs": [
    {
     "data": {
      "text/plain": [
       "array([[-0.56948391, -0.51802262, -0.61180233,  0.1159208 ,  0.1153414 ,\n",
       "        -0.07935541],\n",
       "       [ 0.11140111,  0.06853573,  0.10915384,  0.69536615,  0.69542983,\n",
       "        -0.06181712],\n",
       "       [ 0.0785628 , -0.00555083,  0.04024389, -0.05278097, -0.05386647,\n",
       "        -0.99322207]])"
      ]
     },
     "execution_count": 40,
     "metadata": {},
     "output_type": "execute_result"
    }
   ],
   "source": [
    "principalComponents.components_   ##  BETA VALUES  Z1 & Z2 "
   ]
  },
  {
   "cell_type": "markdown",
   "metadata": {},
   "source": [
    "### Renaming the Columns  \n",
    "\n",
    "* Prediction for data to get data reduction \n"
   ]
  },
  {
   "cell_type": "code",
   "execution_count": 41,
   "metadata": {},
   "outputs": [],
   "source": [
    "transformed_data=principalComponents.fit_transform(X_train_1)  ### only give data which is transformed ( principal component)"
   ]
  },
  {
   "cell_type": "code",
   "execution_count": 42,
   "metadata": {},
   "outputs": [
    {
     "name": "stdout",
     "output_type": "stream",
     "text": [
      "original shape:    (717, 6)\n",
      "transformed shape: (717, 3)\n"
     ]
    }
   ],
   "source": [
    "print(\"original shape:   \", X_train_1.shape)\n",
    "print(\"transformed shape:\", transformed_data.shape)"
   ]
  },
  {
   "cell_type": "code",
   "execution_count": 43,
   "metadata": {},
   "outputs": [
    {
     "data": {
      "text/html": [
       "<div>\n",
       "<style scoped>\n",
       "    .dataframe tbody tr th:only-of-type {\n",
       "        vertical-align: middle;\n",
       "    }\n",
       "\n",
       "    .dataframe tbody tr th {\n",
       "        vertical-align: top;\n",
       "    }\n",
       "\n",
       "    .dataframe thead th {\n",
       "        text-align: right;\n",
       "    }\n",
       "</style>\n",
       "<table border=\"1\" class=\"dataframe\">\n",
       "  <thead>\n",
       "    <tr style=\"text-align: right;\">\n",
       "      <th></th>\n",
       "      <th>principal component 1</th>\n",
       "      <th>principal component 2</th>\n",
       "      <th>principal component 3</th>\n",
       "    </tr>\n",
       "  </thead>\n",
       "  <tbody>\n",
       "    <tr>\n",
       "      <th>0</th>\n",
       "      <td>-1.783897</td>\n",
       "      <td>2.075492</td>\n",
       "      <td>0.316871</td>\n",
       "    </tr>\n",
       "    <tr>\n",
       "      <th>1</th>\n",
       "      <td>-1.370312</td>\n",
       "      <td>-1.080850</td>\n",
       "      <td>0.939571</td>\n",
       "    </tr>\n",
       "    <tr>\n",
       "      <th>2</th>\n",
       "      <td>-2.210169</td>\n",
       "      <td>-0.803718</td>\n",
       "      <td>0.311371</td>\n",
       "    </tr>\n",
       "    <tr>\n",
       "      <th>3</th>\n",
       "      <td>1.543581</td>\n",
       "      <td>-1.262203</td>\n",
       "      <td>0.723626</td>\n",
       "    </tr>\n",
       "    <tr>\n",
       "      <th>4</th>\n",
       "      <td>-0.038878</td>\n",
       "      <td>0.115923</td>\n",
       "      <td>1.702853</td>\n",
       "    </tr>\n",
       "  </tbody>\n",
       "</table>\n",
       "</div>"
      ],
      "text/plain": [
       "   principal component 1  principal component 2  principal component 3\n",
       "0              -1.783897               2.075492               0.316871\n",
       "1              -1.370312              -1.080850               0.939571\n",
       "2              -2.210169              -0.803718               0.311371\n",
       "3               1.543581              -1.262203               0.723626\n",
       "4              -0.038878               0.115923               1.702853"
      ]
     },
     "execution_count": 43,
     "metadata": {},
     "output_type": "execute_result"
    }
   ],
   "source": [
    "principalDf = pd.DataFrame(data = transformed_data\n",
    "             , columns = ['principal component 1', 'principal component 2', 'principal component 3'])\n",
    "principalDf.head()"
   ]
  },
  {
   "cell_type": "markdown",
   "metadata": {},
   "source": [
    "# To check the Principal Component is uncorrelated / independent"
   ]
  },
  {
   "cell_type": "code",
   "execution_count": 44,
   "metadata": {},
   "outputs": [
    {
     "data": {
      "text/html": [
       "<div>\n",
       "<style scoped>\n",
       "    .dataframe tbody tr th:only-of-type {\n",
       "        vertical-align: middle;\n",
       "    }\n",
       "\n",
       "    .dataframe tbody tr th {\n",
       "        vertical-align: top;\n",
       "    }\n",
       "\n",
       "    .dataframe thead th {\n",
       "        text-align: right;\n",
       "    }\n",
       "</style>\n",
       "<table border=\"1\" class=\"dataframe\">\n",
       "  <thead>\n",
       "    <tr style=\"text-align: right;\">\n",
       "      <th></th>\n",
       "      <th>principal component 1</th>\n",
       "      <th>principal component 2</th>\n",
       "      <th>principal component 3</th>\n",
       "    </tr>\n",
       "  </thead>\n",
       "  <tbody>\n",
       "    <tr>\n",
       "      <th>principal component 1</th>\n",
       "      <td>1.0</td>\n",
       "      <td>-0.0</td>\n",
       "      <td>0.0</td>\n",
       "    </tr>\n",
       "    <tr>\n",
       "      <th>principal component 2</th>\n",
       "      <td>-0.0</td>\n",
       "      <td>1.0</td>\n",
       "      <td>0.0</td>\n",
       "    </tr>\n",
       "    <tr>\n",
       "      <th>principal component 3</th>\n",
       "      <td>0.0</td>\n",
       "      <td>0.0</td>\n",
       "      <td>1.0</td>\n",
       "    </tr>\n",
       "  </tbody>\n",
       "</table>\n",
       "</div>"
      ],
      "text/plain": [
       "                       principal component 1  principal component 2  \\\n",
       "principal component 1                    1.0                   -0.0   \n",
       "principal component 2                   -0.0                    1.0   \n",
       "principal component 3                    0.0                    0.0   \n",
       "\n",
       "                       principal component 3  \n",
       "principal component 1                    0.0  \n",
       "principal component 2                    0.0  \n",
       "principal component 3                    1.0  "
      ]
     },
     "execution_count": 44,
     "metadata": {},
     "output_type": "execute_result"
    }
   ],
   "source": [
    "round(principalDf.corr(),5)"
   ]
  },
  {
   "cell_type": "markdown",
   "metadata": {},
   "source": [
    "### Combining & Reindexing "
   ]
  },
  {
   "cell_type": "code",
   "execution_count": 45,
   "metadata": {},
   "outputs": [
    {
     "data": {
      "text/html": [
       "<div>\n",
       "<style scoped>\n",
       "    .dataframe tbody tr th:only-of-type {\n",
       "        vertical-align: middle;\n",
       "    }\n",
       "\n",
       "    .dataframe tbody tr th {\n",
       "        vertical-align: top;\n",
       "    }\n",
       "\n",
       "    .dataframe thead th {\n",
       "        text-align: right;\n",
       "    }\n",
       "</style>\n",
       "<table border=\"1\" class=\"dataframe\">\n",
       "  <thead>\n",
       "    <tr style=\"text-align: right;\">\n",
       "      <th></th>\n",
       "      <th>index</th>\n",
       "      <th>Dist_Taxi</th>\n",
       "      <th>Dist_Market</th>\n",
       "      <th>Dist_Hospital</th>\n",
       "      <th>Carpet</th>\n",
       "      <th>Builtup</th>\n",
       "      <th>Rainfall</th>\n",
       "      <th>City_Category</th>\n",
       "    </tr>\n",
       "  </thead>\n",
       "  <tbody>\n",
       "    <tr>\n",
       "      <th>0</th>\n",
       "      <td>704</td>\n",
       "      <td>10947</td>\n",
       "      <td>14084</td>\n",
       "      <td>16646</td>\n",
       "      <td>1791</td>\n",
       "      <td>2167</td>\n",
       "      <td>700</td>\n",
       "      <td>CAT A</td>\n",
       "    </tr>\n",
       "    <tr>\n",
       "      <th>1</th>\n",
       "      <td>590</td>\n",
       "      <td>10440</td>\n",
       "      <td>11464</td>\n",
       "      <td>15648</td>\n",
       "      <td>1240</td>\n",
       "      <td>1493</td>\n",
       "      <td>590</td>\n",
       "      <td>CAT B</td>\n",
       "    </tr>\n",
       "    <tr>\n",
       "      <th>2</th>\n",
       "      <td>532</td>\n",
       "      <td>14005</td>\n",
       "      <td>9744</td>\n",
       "      <td>17121</td>\n",
       "      <td>1275</td>\n",
       "      <td>1517</td>\n",
       "      <td>790</td>\n",
       "      <td>CAT B</td>\n",
       "    </tr>\n",
       "    <tr>\n",
       "      <th>3</th>\n",
       "      <td>843</td>\n",
       "      <td>5925</td>\n",
       "      <td>9388</td>\n",
       "      <td>9735</td>\n",
       "      <td>1305</td>\n",
       "      <td>1557</td>\n",
       "      <td>580</td>\n",
       "      <td>CAT B</td>\n",
       "    </tr>\n",
       "    <tr>\n",
       "      <th>4</th>\n",
       "      <td>402</td>\n",
       "      <td>11309</td>\n",
       "      <td>8252</td>\n",
       "      <td>13199</td>\n",
       "      <td>1480</td>\n",
       "      <td>1773</td>\n",
       "      <td>360</td>\n",
       "      <td>CAT B</td>\n",
       "    </tr>\n",
       "  </tbody>\n",
       "</table>\n",
       "</div>"
      ],
      "text/plain": [
       "   index  Dist_Taxi  Dist_Market  Dist_Hospital  Carpet  Builtup  Rainfall  \\\n",
       "0    704      10947        14084          16646    1791     2167       700   \n",
       "1    590      10440        11464          15648    1240     1493       590   \n",
       "2    532      14005         9744          17121    1275     1517       790   \n",
       "3    843       5925         9388           9735    1305     1557       580   \n",
       "4    402      11309         8252          13199    1480     1773       360   \n",
       "\n",
       "  City_Category  \n",
       "0         CAT A  \n",
       "1         CAT B  \n",
       "2         CAT B  \n",
       "3         CAT B  \n",
       "4         CAT B  "
      ]
     },
     "execution_count": 45,
     "metadata": {},
     "output_type": "execute_result"
    }
   ],
   "source": [
    "train=pd.concat([X_train,y_train],axis=1)\n",
    "train.reset_index(inplace=True)\n",
    "train.head()"
   ]
  },
  {
   "cell_type": "markdown",
   "metadata": {
    "scrolled": true
   },
   "source": [
    "import plotly.express as px\n",
    "total_var = principalComponents.explained_variance_ratio_.sum() * 100\n",
    "\n",
    "fig = px.scatter_3d(transformed_data, x=0, y=1, z=2, color=train['City_Category'],\n",
    "    title=f'Total Explained Variance: {total_var:.2f}%',\n",
    "    labels={'0': 'PC 1', '1': 'PC 2', '2': 'PC 3'}\n",
    ")\n",
    "fig.show()\n"
   ]
  },
  {
   "cell_type": "markdown",
   "metadata": {},
   "source": [
    "## Identify variable is combining together "
   ]
  },
  {
   "cell_type": "code",
   "execution_count": 46,
   "metadata": {},
   "outputs": [
    {
     "data": {
      "text/html": [
       "<div>\n",
       "<style scoped>\n",
       "    .dataframe tbody tr th:only-of-type {\n",
       "        vertical-align: middle;\n",
       "    }\n",
       "\n",
       "    .dataframe tbody tr th {\n",
       "        vertical-align: top;\n",
       "    }\n",
       "\n",
       "    .dataframe thead th {\n",
       "        text-align: right;\n",
       "    }\n",
       "</style>\n",
       "<table border=\"1\" class=\"dataframe\">\n",
       "  <thead>\n",
       "    <tr style=\"text-align: right;\">\n",
       "      <th></th>\n",
       "      <th>Dist_Taxi</th>\n",
       "      <th>Dist_Market</th>\n",
       "      <th>Dist_Hospital</th>\n",
       "      <th>Carpet</th>\n",
       "      <th>Builtup</th>\n",
       "      <th>Rainfall</th>\n",
       "    </tr>\n",
       "  </thead>\n",
       "  <tbody>\n",
       "    <tr>\n",
       "      <th>0</th>\n",
       "      <td>1.060198</td>\n",
       "      <td>1.213409</td>\n",
       "      <td>1.404937</td>\n",
       "      <td>1.193147</td>\n",
       "      <td>1.253375</td>\n",
       "      <td>-0.316409</td>\n",
       "    </tr>\n",
       "    <tr>\n",
       "      <th>1</th>\n",
       "      <td>0.860104</td>\n",
       "      <td>0.183587</td>\n",
       "      <td>1.013326</td>\n",
       "      <td>-0.975801</td>\n",
       "      <td>-0.958683</td>\n",
       "      <td>-0.734068</td>\n",
       "    </tr>\n",
       "    <tr>\n",
       "      <th>2</th>\n",
       "      <td>2.267078</td>\n",
       "      <td>-0.492479</td>\n",
       "      <td>1.591324</td>\n",
       "      <td>-0.838027</td>\n",
       "      <td>-0.879915</td>\n",
       "      <td>0.025313</td>\n",
       "    </tr>\n",
       "    <tr>\n",
       "      <th>3</th>\n",
       "      <td>-0.921800</td>\n",
       "      <td>-0.632409</td>\n",
       "      <td>-1.306905</td>\n",
       "      <td>-0.719936</td>\n",
       "      <td>-0.748636</td>\n",
       "      <td>-0.772037</td>\n",
       "    </tr>\n",
       "    <tr>\n",
       "      <th>4</th>\n",
       "      <td>1.203066</td>\n",
       "      <td>-1.078927</td>\n",
       "      <td>0.052351</td>\n",
       "      <td>-0.031068</td>\n",
       "      <td>-0.039727</td>\n",
       "      <td>-1.607356</td>\n",
       "    </tr>\n",
       "  </tbody>\n",
       "</table>\n",
       "</div>"
      ],
      "text/plain": [
       "   Dist_Taxi  Dist_Market  Dist_Hospital    Carpet   Builtup  Rainfall\n",
       "0   1.060198     1.213409       1.404937  1.193147  1.253375 -0.316409\n",
       "1   0.860104     0.183587       1.013326 -0.975801 -0.958683 -0.734068\n",
       "2   2.267078    -0.492479       1.591324 -0.838027 -0.879915  0.025313\n",
       "3  -0.921800    -0.632409      -1.306905 -0.719936 -0.748636 -0.772037\n",
       "4   1.203066    -1.078927       0.052351 -0.031068 -0.039727 -1.607356"
      ]
     },
     "execution_count": 46,
     "metadata": {},
     "output_type": "execute_result"
    }
   ],
   "source": [
    "numeric_predictors_1=['Dist_Taxi','Dist_Market','Dist_Hospital','Carpet','Builtup','Rainfall']\n",
    "scaled_train=pd.DataFrame(X_train_1,columns=numeric_predictors_1)\n",
    "scaled_train.head()"
   ]
  },
  {
   "cell_type": "code",
   "execution_count": 47,
   "metadata": {
    "scrolled": true
   },
   "outputs": [
    {
     "data": {
      "text/html": [
       "<div>\n",
       "<style scoped>\n",
       "    .dataframe tbody tr th:only-of-type {\n",
       "        vertical-align: middle;\n",
       "    }\n",
       "\n",
       "    .dataframe tbody tr th {\n",
       "        vertical-align: top;\n",
       "    }\n",
       "\n",
       "    .dataframe thead th {\n",
       "        text-align: right;\n",
       "    }\n",
       "</style>\n",
       "<table border=\"1\" class=\"dataframe\">\n",
       "  <thead>\n",
       "    <tr style=\"text-align: right;\">\n",
       "      <th></th>\n",
       "      <th>Dist_Taxi</th>\n",
       "      <th>Dist_Market</th>\n",
       "      <th>Dist_Hospital</th>\n",
       "      <th>Carpet</th>\n",
       "      <th>Builtup</th>\n",
       "      <th>Rainfall</th>\n",
       "      <th>principal component 1</th>\n",
       "      <th>principal component 2</th>\n",
       "      <th>principal component 3</th>\n",
       "    </tr>\n",
       "  </thead>\n",
       "  <tbody>\n",
       "    <tr>\n",
       "      <th>0</th>\n",
       "      <td>1.060198</td>\n",
       "      <td>1.213409</td>\n",
       "      <td>1.404937</td>\n",
       "      <td>1.193147</td>\n",
       "      <td>1.253375</td>\n",
       "      <td>-0.316409</td>\n",
       "      <td>-1.783897</td>\n",
       "      <td>2.075492</td>\n",
       "      <td>0.316871</td>\n",
       "    </tr>\n",
       "    <tr>\n",
       "      <th>1</th>\n",
       "      <td>0.860104</td>\n",
       "      <td>0.183587</td>\n",
       "      <td>1.013326</td>\n",
       "      <td>-0.975801</td>\n",
       "      <td>-0.958683</td>\n",
       "      <td>-0.734068</td>\n",
       "      <td>-1.370312</td>\n",
       "      <td>-1.080850</td>\n",
       "      <td>0.939571</td>\n",
       "    </tr>\n",
       "    <tr>\n",
       "      <th>2</th>\n",
       "      <td>2.267078</td>\n",
       "      <td>-0.492479</td>\n",
       "      <td>1.591324</td>\n",
       "      <td>-0.838027</td>\n",
       "      <td>-0.879915</td>\n",
       "      <td>0.025313</td>\n",
       "      <td>-2.210169</td>\n",
       "      <td>-0.803718</td>\n",
       "      <td>0.311371</td>\n",
       "    </tr>\n",
       "    <tr>\n",
       "      <th>3</th>\n",
       "      <td>-0.921800</td>\n",
       "      <td>-0.632409</td>\n",
       "      <td>-1.306905</td>\n",
       "      <td>-0.719936</td>\n",
       "      <td>-0.748636</td>\n",
       "      <td>-0.772037</td>\n",
       "      <td>1.543581</td>\n",
       "      <td>-1.262203</td>\n",
       "      <td>0.723626</td>\n",
       "    </tr>\n",
       "    <tr>\n",
       "      <th>4</th>\n",
       "      <td>1.203066</td>\n",
       "      <td>-1.078927</td>\n",
       "      <td>0.052351</td>\n",
       "      <td>-0.031068</td>\n",
       "      <td>-0.039727</td>\n",
       "      <td>-1.607356</td>\n",
       "      <td>-0.038878</td>\n",
       "      <td>0.115923</td>\n",
       "      <td>1.702853</td>\n",
       "    </tr>\n",
       "  </tbody>\n",
       "</table>\n",
       "</div>"
      ],
      "text/plain": [
       "   Dist_Taxi  Dist_Market  Dist_Hospital    Carpet   Builtup  Rainfall  \\\n",
       "0   1.060198     1.213409       1.404937  1.193147  1.253375 -0.316409   \n",
       "1   0.860104     0.183587       1.013326 -0.975801 -0.958683 -0.734068   \n",
       "2   2.267078    -0.492479       1.591324 -0.838027 -0.879915  0.025313   \n",
       "3  -0.921800    -0.632409      -1.306905 -0.719936 -0.748636 -0.772037   \n",
       "4   1.203066    -1.078927       0.052351 -0.031068 -0.039727 -1.607356   \n",
       "\n",
       "   principal component 1  principal component 2  principal component 3  \n",
       "0              -1.783897               2.075492               0.316871  \n",
       "1              -1.370312              -1.080850               0.939571  \n",
       "2              -2.210169              -0.803718               0.311371  \n",
       "3               1.543581              -1.262203               0.723626  \n",
       "4              -0.038878               0.115923               1.702853  "
      ]
     },
     "execution_count": 47,
     "metadata": {},
     "output_type": "execute_result"
    }
   ],
   "source": [
    "final_data=pd.concat([scaled_train,principalDf],axis=1)\n",
    "final_data.head()"
   ]
  },
  {
   "cell_type": "code",
   "execution_count": 48,
   "metadata": {
    "scrolled": true
   },
   "outputs": [
    {
     "data": {
      "text/html": [
       "<div>\n",
       "<style scoped>\n",
       "    .dataframe tbody tr th:only-of-type {\n",
       "        vertical-align: middle;\n",
       "    }\n",
       "\n",
       "    .dataframe tbody tr th {\n",
       "        vertical-align: top;\n",
       "    }\n",
       "\n",
       "    .dataframe thead th {\n",
       "        text-align: right;\n",
       "    }\n",
       "</style>\n",
       "<table border=\"1\" class=\"dataframe\">\n",
       "  <thead>\n",
       "    <tr style=\"text-align: right;\">\n",
       "      <th></th>\n",
       "      <th>principal component 1</th>\n",
       "      <th>principal component 2</th>\n",
       "      <th>principal component 3</th>\n",
       "    </tr>\n",
       "  </thead>\n",
       "  <tbody>\n",
       "    <tr>\n",
       "      <th>Dist_Taxi</th>\n",
       "      <td>-86.1</td>\n",
       "      <td>15.7</td>\n",
       "      <td>7.8</td>\n",
       "    </tr>\n",
       "    <tr>\n",
       "      <th>Dist_Market</th>\n",
       "      <td>-78.3</td>\n",
       "      <td>9.7</td>\n",
       "      <td>-0.6</td>\n",
       "    </tr>\n",
       "    <tr>\n",
       "      <th>Dist_Hospital</th>\n",
       "      <td>-92.5</td>\n",
       "      <td>15.4</td>\n",
       "      <td>4.0</td>\n",
       "    </tr>\n",
       "    <tr>\n",
       "      <th>Carpet</th>\n",
       "      <td>17.5</td>\n",
       "      <td>98.3</td>\n",
       "      <td>-5.3</td>\n",
       "    </tr>\n",
       "    <tr>\n",
       "      <th>Builtup</th>\n",
       "      <td>17.4</td>\n",
       "      <td>98.3</td>\n",
       "      <td>-5.4</td>\n",
       "    </tr>\n",
       "    <tr>\n",
       "      <th>Rainfall</th>\n",
       "      <td>-12.0</td>\n",
       "      <td>-8.7</td>\n",
       "      <td>-98.8</td>\n",
       "    </tr>\n",
       "  </tbody>\n",
       "</table>\n",
       "</div>"
      ],
      "text/plain": [
       "               principal component 1  principal component 2  \\\n",
       "Dist_Taxi                      -86.1                   15.7   \n",
       "Dist_Market                    -78.3                    9.7   \n",
       "Dist_Hospital                  -92.5                   15.4   \n",
       "Carpet                          17.5                   98.3   \n",
       "Builtup                         17.4                   98.3   \n",
       "Rainfall                       -12.0                   -8.7   \n",
       "\n",
       "               principal component 3  \n",
       "Dist_Taxi                        7.8  \n",
       "Dist_Market                     -0.6  \n",
       "Dist_Hospital                    4.0  \n",
       "Carpet                          -5.3  \n",
       "Builtup                         -5.4  \n",
       "Rainfall                       -98.8  "
      ]
     },
     "execution_count": 48,
     "metadata": {},
     "output_type": "execute_result"
    }
   ],
   "source": [
    "Correlation_Matrix=pd.DataFrame(round(final_data.corr(),3))*100\n",
    "Correlation_Matrix.iloc[0:6,6:9]"
   ]
  },
  {
   "cell_type": "markdown",
   "metadata": {},
   "source": [
    "## Applying Principal component on Test data"
   ]
  },
  {
   "cell_type": "code",
   "execution_count": 49,
   "metadata": {},
   "outputs": [],
   "source": [
    "X_test_2= principalComponents.transform(X_test_1) # Fit the model with X."
   ]
  },
  {
   "cell_type": "markdown",
   "metadata": {},
   "source": [
    "### Renaming the Columns"
   ]
  },
  {
   "cell_type": "code",
   "execution_count": 50,
   "metadata": {},
   "outputs": [
    {
     "data": {
      "text/html": [
       "<div>\n",
       "<style scoped>\n",
       "    .dataframe tbody tr th:only-of-type {\n",
       "        vertical-align: middle;\n",
       "    }\n",
       "\n",
       "    .dataframe tbody tr th {\n",
       "        vertical-align: top;\n",
       "    }\n",
       "\n",
       "    .dataframe thead th {\n",
       "        text-align: right;\n",
       "    }\n",
       "</style>\n",
       "<table border=\"1\" class=\"dataframe\">\n",
       "  <thead>\n",
       "    <tr style=\"text-align: right;\">\n",
       "      <th></th>\n",
       "      <th>principal component 1</th>\n",
       "      <th>principal component 2</th>\n",
       "      <th>principal component 3</th>\n",
       "    </tr>\n",
       "  </thead>\n",
       "  <tbody>\n",
       "    <tr>\n",
       "      <th>0</th>\n",
       "      <td>1.157308</td>\n",
       "      <td>-0.373592</td>\n",
       "      <td>-0.891291</td>\n",
       "    </tr>\n",
       "    <tr>\n",
       "      <th>1</th>\n",
       "      <td>2.795719</td>\n",
       "      <td>0.887207</td>\n",
       "      <td>1.578273</td>\n",
       "    </tr>\n",
       "    <tr>\n",
       "      <th>2</th>\n",
       "      <td>0.637293</td>\n",
       "      <td>-2.154677</td>\n",
       "      <td>0.121167</td>\n",
       "    </tr>\n",
       "    <tr>\n",
       "      <th>3</th>\n",
       "      <td>0.668650</td>\n",
       "      <td>-1.476891</td>\n",
       "      <td>-0.703834</td>\n",
       "    </tr>\n",
       "    <tr>\n",
       "      <th>4</th>\n",
       "      <td>0.063751</td>\n",
       "      <td>0.300666</td>\n",
       "      <td>-0.003053</td>\n",
       "    </tr>\n",
       "  </tbody>\n",
       "</table>\n",
       "</div>"
      ],
      "text/plain": [
       "   principal component 1  principal component 2  principal component 3\n",
       "0               1.157308              -0.373592              -0.891291\n",
       "1               2.795719               0.887207               1.578273\n",
       "2               0.637293              -2.154677               0.121167\n",
       "3               0.668650              -1.476891              -0.703834\n",
       "4               0.063751               0.300666              -0.003053"
      ]
     },
     "execution_count": 50,
     "metadata": {},
     "output_type": "execute_result"
    }
   ],
   "source": [
    "output = pd.DataFrame(data = X_test_2, columns = ['principal component 1', 'principal component 2', 'principal component 3'])\n",
    "output.head()"
   ]
  },
  {
   "cell_type": "code",
   "execution_count": 51,
   "metadata": {},
   "outputs": [
    {
     "data": {
      "text/html": [
       "<div>\n",
       "<style scoped>\n",
       "    .dataframe tbody tr th:only-of-type {\n",
       "        vertical-align: middle;\n",
       "    }\n",
       "\n",
       "    .dataframe tbody tr th {\n",
       "        vertical-align: top;\n",
       "    }\n",
       "\n",
       "    .dataframe thead th {\n",
       "        text-align: right;\n",
       "    }\n",
       "</style>\n",
       "<table border=\"1\" class=\"dataframe\">\n",
       "  <thead>\n",
       "    <tr style=\"text-align: right;\">\n",
       "      <th></th>\n",
       "      <th>principal component 1</th>\n",
       "      <th>principal component 2</th>\n",
       "      <th>principal component 3</th>\n",
       "    </tr>\n",
       "  </thead>\n",
       "  <tbody>\n",
       "    <tr>\n",
       "      <th>principal component 1</th>\n",
       "      <td>100.0</td>\n",
       "      <td>-13.3</td>\n",
       "      <td>-3.6</td>\n",
       "    </tr>\n",
       "    <tr>\n",
       "      <th>principal component 2</th>\n",
       "      <td>-13.3</td>\n",
       "      <td>100.0</td>\n",
       "      <td>-1.6</td>\n",
       "    </tr>\n",
       "    <tr>\n",
       "      <th>principal component 3</th>\n",
       "      <td>-3.6</td>\n",
       "      <td>-1.6</td>\n",
       "      <td>100.0</td>\n",
       "    </tr>\n",
       "  </tbody>\n",
       "</table>\n",
       "</div>"
      ],
      "text/plain": [
       "                       principal component 1  principal component 2  \\\n",
       "principal component 1                  100.0                  -13.3   \n",
       "principal component 2                  -13.3                  100.0   \n",
       "principal component 3                   -3.6                   -1.6   \n",
       "\n",
       "                       principal component 3  \n",
       "principal component 1                   -3.6  \n",
       "principal component 2                   -1.6  \n",
       "principal component 3                  100.0  "
      ]
     },
     "execution_count": 51,
     "metadata": {},
     "output_type": "execute_result"
    }
   ],
   "source": [
    "round(output.corr(),3)*100"
   ]
  },
  {
   "cell_type": "markdown",
   "metadata": {},
   "source": [
    "## Comibined Test Dataset & Re-indexing"
   ]
  },
  {
   "cell_type": "code",
   "execution_count": 52,
   "metadata": {},
   "outputs": [
    {
     "data": {
      "text/html": [
       "<div>\n",
       "<style scoped>\n",
       "    .dataframe tbody tr th:only-of-type {\n",
       "        vertical-align: middle;\n",
       "    }\n",
       "\n",
       "    .dataframe tbody tr th {\n",
       "        vertical-align: top;\n",
       "    }\n",
       "\n",
       "    .dataframe thead th {\n",
       "        text-align: right;\n",
       "    }\n",
       "</style>\n",
       "<table border=\"1\" class=\"dataframe\">\n",
       "  <thead>\n",
       "    <tr style=\"text-align: right;\">\n",
       "      <th></th>\n",
       "      <th>Dist_Taxi</th>\n",
       "      <th>Dist_Market</th>\n",
       "      <th>Dist_Hospital</th>\n",
       "      <th>Carpet</th>\n",
       "      <th>Builtup</th>\n",
       "      <th>Rainfall</th>\n",
       "    </tr>\n",
       "  </thead>\n",
       "  <tbody>\n",
       "    <tr>\n",
       "      <th>0</th>\n",
       "      <td>-0.256398</td>\n",
       "      <td>-1.174834</td>\n",
       "      <td>-0.803462</td>\n",
       "      <td>-0.101923</td>\n",
       "      <td>-0.075829</td>\n",
       "      <td>0.860632</td>\n",
       "    </tr>\n",
       "    <tr>\n",
       "      <th>1</th>\n",
       "      <td>-1.471171</td>\n",
       "      <td>-1.721583</td>\n",
       "      <td>-1.182516</td>\n",
       "      <td>0.850682</td>\n",
       "      <td>0.852973</td>\n",
       "      <td>-1.835171</td>\n",
       "    </tr>\n",
       "    <tr>\n",
       "      <th>2</th>\n",
       "      <td>-0.081167</td>\n",
       "      <td>-1.495966</td>\n",
       "      <td>-0.250185</td>\n",
       "      <td>-1.452103</td>\n",
       "      <td>-1.444417</td>\n",
       "      <td>0.025313</td>\n",
       "    </tr>\n",
       "    <tr>\n",
       "      <th>3</th>\n",
       "      <td>-0.004997</td>\n",
       "      <td>-0.995598</td>\n",
       "      <td>-0.695946</td>\n",
       "      <td>-0.936437</td>\n",
       "      <td>-0.909453</td>\n",
       "      <td>0.784694</td>\n",
       "    </tr>\n",
       "    <tr>\n",
       "      <th>4</th>\n",
       "      <td>-0.667637</td>\n",
       "      <td>0.972069</td>\n",
       "      <td>-0.205845</td>\n",
       "      <td>0.268097</td>\n",
       "      <td>0.199858</td>\n",
       "      <td>-0.088594</td>\n",
       "    </tr>\n",
       "  </tbody>\n",
       "</table>\n",
       "</div>"
      ],
      "text/plain": [
       "   Dist_Taxi  Dist_Market  Dist_Hospital    Carpet   Builtup  Rainfall\n",
       "0  -0.256398    -1.174834      -0.803462 -0.101923 -0.075829  0.860632\n",
       "1  -1.471171    -1.721583      -1.182516  0.850682  0.852973 -1.835171\n",
       "2  -0.081167    -1.495966      -0.250185 -1.452103 -1.444417  0.025313\n",
       "3  -0.004997    -0.995598      -0.695946 -0.936437 -0.909453  0.784694\n",
       "4  -0.667637     0.972069      -0.205845  0.268097  0.199858 -0.088594"
      ]
     },
     "execution_count": 52,
     "metadata": {},
     "output_type": "execute_result"
    }
   ],
   "source": [
    "numeric_predictors_1=['Dist_Taxi','Dist_Market','Dist_Hospital','Carpet','Builtup','Rainfall']\n",
    "scaled_test=pd.DataFrame(X_test_1,columns=numeric_predictors_1)\n",
    "scaled_test.head()"
   ]
  },
  {
   "cell_type": "code",
   "execution_count": 53,
   "metadata": {},
   "outputs": [
    {
     "data": {
      "text/html": [
       "<div>\n",
       "<style scoped>\n",
       "    .dataframe tbody tr th:only-of-type {\n",
       "        vertical-align: middle;\n",
       "    }\n",
       "\n",
       "    .dataframe tbody tr th {\n",
       "        vertical-align: top;\n",
       "    }\n",
       "\n",
       "    .dataframe thead th {\n",
       "        text-align: right;\n",
       "    }\n",
       "</style>\n",
       "<table border=\"1\" class=\"dataframe\">\n",
       "  <thead>\n",
       "    <tr style=\"text-align: right;\">\n",
       "      <th></th>\n",
       "      <th>Dist_Taxi</th>\n",
       "      <th>Dist_Market</th>\n",
       "      <th>Dist_Hospital</th>\n",
       "      <th>Carpet</th>\n",
       "      <th>Builtup</th>\n",
       "      <th>Rainfall</th>\n",
       "      <th>principal component 1</th>\n",
       "      <th>principal component 2</th>\n",
       "      <th>principal component 3</th>\n",
       "    </tr>\n",
       "  </thead>\n",
       "  <tbody>\n",
       "    <tr>\n",
       "      <th>0</th>\n",
       "      <td>-0.256398</td>\n",
       "      <td>-1.174834</td>\n",
       "      <td>-0.803462</td>\n",
       "      <td>-0.101923</td>\n",
       "      <td>-0.075829</td>\n",
       "      <td>0.860632</td>\n",
       "      <td>1.157308</td>\n",
       "      <td>-0.373592</td>\n",
       "      <td>-0.891291</td>\n",
       "    </tr>\n",
       "    <tr>\n",
       "      <th>1</th>\n",
       "      <td>-1.471171</td>\n",
       "      <td>-1.721583</td>\n",
       "      <td>-1.182516</td>\n",
       "      <td>0.850682</td>\n",
       "      <td>0.852973</td>\n",
       "      <td>-1.835171</td>\n",
       "      <td>2.795719</td>\n",
       "      <td>0.887207</td>\n",
       "      <td>1.578273</td>\n",
       "    </tr>\n",
       "    <tr>\n",
       "      <th>2</th>\n",
       "      <td>-0.081167</td>\n",
       "      <td>-1.495966</td>\n",
       "      <td>-0.250185</td>\n",
       "      <td>-1.452103</td>\n",
       "      <td>-1.444417</td>\n",
       "      <td>0.025313</td>\n",
       "      <td>0.637293</td>\n",
       "      <td>-2.154677</td>\n",
       "      <td>0.121167</td>\n",
       "    </tr>\n",
       "    <tr>\n",
       "      <th>3</th>\n",
       "      <td>-0.004997</td>\n",
       "      <td>-0.995598</td>\n",
       "      <td>-0.695946</td>\n",
       "      <td>-0.936437</td>\n",
       "      <td>-0.909453</td>\n",
       "      <td>0.784694</td>\n",
       "      <td>0.668650</td>\n",
       "      <td>-1.476891</td>\n",
       "      <td>-0.703834</td>\n",
       "    </tr>\n",
       "    <tr>\n",
       "      <th>4</th>\n",
       "      <td>-0.667637</td>\n",
       "      <td>0.972069</td>\n",
       "      <td>-0.205845</td>\n",
       "      <td>0.268097</td>\n",
       "      <td>0.199858</td>\n",
       "      <td>-0.088594</td>\n",
       "      <td>0.063751</td>\n",
       "      <td>0.300666</td>\n",
       "      <td>-0.003053</td>\n",
       "    </tr>\n",
       "  </tbody>\n",
       "</table>\n",
       "</div>"
      ],
      "text/plain": [
       "   Dist_Taxi  Dist_Market  Dist_Hospital    Carpet   Builtup  Rainfall  \\\n",
       "0  -0.256398    -1.174834      -0.803462 -0.101923 -0.075829  0.860632   \n",
       "1  -1.471171    -1.721583      -1.182516  0.850682  0.852973 -1.835171   \n",
       "2  -0.081167    -1.495966      -0.250185 -1.452103 -1.444417  0.025313   \n",
       "3  -0.004997    -0.995598      -0.695946 -0.936437 -0.909453  0.784694   \n",
       "4  -0.667637     0.972069      -0.205845  0.268097  0.199858 -0.088594   \n",
       "\n",
       "   principal component 1  principal component 2  principal component 3  \n",
       "0               1.157308              -0.373592              -0.891291  \n",
       "1               2.795719               0.887207               1.578273  \n",
       "2               0.637293              -2.154677               0.121167  \n",
       "3               0.668650              -1.476891              -0.703834  \n",
       "4               0.063751               0.300666              -0.003053  "
      ]
     },
     "execution_count": 53,
     "metadata": {},
     "output_type": "execute_result"
    }
   ],
   "source": [
    "final_data_test=pd.concat([scaled_test,output],axis=1)\n",
    "final_data_test.head()"
   ]
  },
  {
   "cell_type": "code",
   "execution_count": 54,
   "metadata": {},
   "outputs": [
    {
     "data": {
      "text/html": [
       "<div>\n",
       "<style scoped>\n",
       "    .dataframe tbody tr th:only-of-type {\n",
       "        vertical-align: middle;\n",
       "    }\n",
       "\n",
       "    .dataframe tbody tr th {\n",
       "        vertical-align: top;\n",
       "    }\n",
       "\n",
       "    .dataframe thead th {\n",
       "        text-align: right;\n",
       "    }\n",
       "</style>\n",
       "<table border=\"1\" class=\"dataframe\">\n",
       "  <thead>\n",
       "    <tr style=\"text-align: right;\">\n",
       "      <th></th>\n",
       "      <th>principal component 1</th>\n",
       "      <th>principal component 2</th>\n",
       "      <th>principal component 3</th>\n",
       "    </tr>\n",
       "  </thead>\n",
       "  <tbody>\n",
       "    <tr>\n",
       "      <th>Dist_Taxi</th>\n",
       "      <td>-85.5</td>\n",
       "      <td>23.4</td>\n",
       "      <td>14.6</td>\n",
       "    </tr>\n",
       "    <tr>\n",
       "      <th>Dist_Market</th>\n",
       "      <td>-74.6</td>\n",
       "      <td>17.2</td>\n",
       "      <td>-4.0</td>\n",
       "    </tr>\n",
       "    <tr>\n",
       "      <th>Dist_Hospital</th>\n",
       "      <td>-92.7</td>\n",
       "      <td>29.8</td>\n",
       "      <td>8.9</td>\n",
       "    </tr>\n",
       "    <tr>\n",
       "      <th>Carpet</th>\n",
       "      <td>5.1</td>\n",
       "      <td>98.0</td>\n",
       "      <td>-8.8</td>\n",
       "    </tr>\n",
       "    <tr>\n",
       "      <th>Builtup</th>\n",
       "      <td>5.4</td>\n",
       "      <td>98.0</td>\n",
       "      <td>-8.5</td>\n",
       "    </tr>\n",
       "    <tr>\n",
       "      <th>Rainfall</th>\n",
       "      <td>-6.3</td>\n",
       "      <td>-4.6</td>\n",
       "      <td>-99.1</td>\n",
       "    </tr>\n",
       "  </tbody>\n",
       "</table>\n",
       "</div>"
      ],
      "text/plain": [
       "               principal component 1  principal component 2  \\\n",
       "Dist_Taxi                      -85.5                   23.4   \n",
       "Dist_Market                    -74.6                   17.2   \n",
       "Dist_Hospital                  -92.7                   29.8   \n",
       "Carpet                           5.1                   98.0   \n",
       "Builtup                          5.4                   98.0   \n",
       "Rainfall                        -6.3                   -4.6   \n",
       "\n",
       "               principal component 3  \n",
       "Dist_Taxi                       14.6  \n",
       "Dist_Market                     -4.0  \n",
       "Dist_Hospital                    8.9  \n",
       "Carpet                          -8.8  \n",
       "Builtup                         -8.5  \n",
       "Rainfall                       -99.1  "
      ]
     },
     "execution_count": 54,
     "metadata": {},
     "output_type": "execute_result"
    }
   ],
   "source": [
    "Correlation_Matrix=pd.DataFrame(round(final_data_test.corr(),3))*100\n",
    "Correlation_Matrix.iloc[0:6,6:9]"
   ]
  },
  {
   "cell_type": "markdown",
   "metadata": {},
   "source": [
    "#### Notice the code below has .95 for the number of components parameter. It means that scikit-learn choose the minimum number of principal components such that 95% of the variance is retained"
   ]
  },
  {
   "cell_type": "code",
   "execution_count": 55,
   "metadata": {},
   "outputs": [],
   "source": [
    "from sklearn.decomposition import PCA\n",
    "# Make an instance of the Model\n",
    "pca = PCA(.95)"
   ]
  },
  {
   "cell_type": "code",
   "execution_count": 56,
   "metadata": {},
   "outputs": [],
   "source": [
    "principalComponents2= pca.fit_transform(X_train_1)"
   ]
  },
  {
   "cell_type": "code",
   "execution_count": 57,
   "metadata": {},
   "outputs": [
    {
     "data": {
      "text/plain": [
       "array([2.28989267, 2.00032207, 0.99093957, 0.54955417])"
      ]
     },
     "execution_count": 57,
     "metadata": {},
     "output_type": "execute_result"
    }
   ],
   "source": [
    "pca.explained_variance_"
   ]
  },
  {
   "cell_type": "code",
   "execution_count": 58,
   "metadata": {},
   "outputs": [],
   "source": [
    "a=pca.explained_variance_ratio_"
   ]
  },
  {
   "cell_type": "code",
   "execution_count": 59,
   "metadata": {},
   "outputs": [],
   "source": [
    "a=pd.DataFrame(data=a,columns = ['Eigen_Values'])"
   ]
  },
  {
   "cell_type": "code",
   "execution_count": 60,
   "metadata": {},
   "outputs": [],
   "source": [
    "a[\"PCA\"]=[1,2,3,4]"
   ]
  },
  {
   "cell_type": "code",
   "execution_count": 61,
   "metadata": {},
   "outputs": [
    {
     "data": {
      "text/html": [
       "<div>\n",
       "<style scoped>\n",
       "    .dataframe tbody tr th:only-of-type {\n",
       "        vertical-align: middle;\n",
       "    }\n",
       "\n",
       "    .dataframe tbody tr th {\n",
       "        vertical-align: top;\n",
       "    }\n",
       "\n",
       "    .dataframe thead th {\n",
       "        text-align: right;\n",
       "    }\n",
       "</style>\n",
       "<table border=\"1\" class=\"dataframe\">\n",
       "  <thead>\n",
       "    <tr style=\"text-align: right;\">\n",
       "      <th></th>\n",
       "      <th>Eigen_Values</th>\n",
       "      <th>PCA</th>\n",
       "    </tr>\n",
       "  </thead>\n",
       "  <tbody>\n",
       "    <tr>\n",
       "      <th>0</th>\n",
       "      <td>0.381116</td>\n",
       "      <td>1</td>\n",
       "    </tr>\n",
       "    <tr>\n",
       "      <th>1</th>\n",
       "      <td>0.332922</td>\n",
       "      <td>2</td>\n",
       "    </tr>\n",
       "    <tr>\n",
       "      <th>2</th>\n",
       "      <td>0.164926</td>\n",
       "      <td>3</td>\n",
       "    </tr>\n",
       "    <tr>\n",
       "      <th>3</th>\n",
       "      <td>0.091465</td>\n",
       "      <td>4</td>\n",
       "    </tr>\n",
       "  </tbody>\n",
       "</table>\n",
       "</div>"
      ],
      "text/plain": [
       "   Eigen_Values  PCA\n",
       "0      0.381116    1\n",
       "1      0.332922    2\n",
       "2      0.164926    3\n",
       "3      0.091465    4"
      ]
     },
     "execution_count": 61,
     "metadata": {},
     "output_type": "execute_result"
    }
   ],
   "source": [
    "a"
   ]
  },
  {
   "cell_type": "markdown",
   "metadata": {},
   "source": [
    "## Scree Plot \n",
    "\n",
    "* To get the Idea how much PCA we Need"
   ]
  },
  {
   "cell_type": "code",
   "execution_count": 88,
   "metadata": {},
   "outputs": [
    {
     "name": "stderr",
     "output_type": "stream",
     "text": [
      "<ipython-input-88-e38dbb94458c>:3: MatplotlibDeprecationWarning: Adding an axes using the same arguments as a previous axes currently reuses the earlier instance.  In a future version, a new instance will always be created and returned.  Meanwhile, this warning can be suppressed, and the future behavior ensured, by passing a unique label to each axes instance.\n",
      "  ax = plt.axes()\n"
     ]
    },
    {
     "data": {
      "image/png": "[encoded data removed]",
      "text/plain": [
       "<Figure size 432x288 with 1 Axes>"
      ]
     },
     "metadata": {
      "needs_background": "light"
     },
     "output_type": "display_data"
    }
   ],
   "source": [
    "import matplotlib.pyplot as plt\n",
    "plt.plot( 'PCA', 'Eigen_Values', data=a, linestyle='--', marker='o',linewidth=2)\n",
    "ax = plt.axes()\n",
    "  \n",
    "ax.set_facecolor(\"Pink\")\n",
    "plt.grid(color='black', linestyle='--', linewidth=1)\n",
    "\n",
    "plt.show()\n"
   ]
  },
  {
   "cell_type": "code",
   "execution_count": null,
   "metadata": {},
   "outputs": [],
   "source": []
  },
  {
   "cell_type": "code",
   "execution_count": null,
   "metadata": {},
   "outputs": [],
   "source": []
  },
  {
   "cell_type": "code",
   "execution_count": null,
   "metadata": {},
   "outputs": [],
   "source": []
  }
 ],
 "metadata": {
  "kernelspec": {
   "display_name": "Python 3",
   "language": "python",
   "name": "python3"
  },
  "language_info": {
   "codemirror_mode": {
    "name": "ipython",
    "version": 3
   },
   "file_extension": ".py",
   "mimetype": "text/x-python",
   "name": "python",
   "nbconvert_exporter": "python",
   "pygments_lexer": "ipython3",
   "version": "3.8.8"
  }
 },
 "nbformat": 4,
 "nbformat_minor": 2
}
